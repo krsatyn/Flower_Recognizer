{
 "cells": [
  {
   "cell_type": "code",
   "execution_count": 1,
   "id": "ac6b3402",
   "metadata": {},
   "outputs": [],
   "source": [
    "import torch\n",
    "import torchaudio\n",
    "import cv2\n",
    "import seaborn as sns\n",
    "import os\n",
    "import shutil\n",
    "\n",
    "from sklearn.model_selection import train_test_split\n",
    "from torchvision import transforms, datasets, models\n",
    "from torch.utils.data import DataLoader"
   ]
  },
  {
   "cell_type": "markdown",
   "id": "cb64a820",
   "metadata": {},
   "source": [
    "# Подготовка данных"
   ]
  },
  {
   "cell_type": "code",
   "execution_count": 2,
   "id": "b43f6df2",
   "metadata": {},
   "outputs": [
    {
     "name": "stdout",
     "output_type": "stream",
     "text": [
      "label_name='daisy'\n",
      "Количество обьектов:764\n",
      "----\n",
      "label_name='dandelion'\n",
      "Количество обьектов:1052\n",
      "----\n",
      "label_name='rose'\n",
      "Количество обьектов:784\n",
      "----\n",
      "label_name='sunflower'\n",
      "Количество обьектов:733\n",
      "----\n",
      "label_name='tulip'\n",
      "Количество обьектов:984\n",
      "----\n"
     ]
    },
    {
     "data": {
      "text/plain": [
       "'Так как наша задача классифицировать цветок, то у нас отсутствует смещение априорных значения классов'"
      ]
     },
     "execution_count": 2,
     "metadata": {},
     "output_type": "execute_result"
    }
   ],
   "source": [
    "# Просмотр данных\n",
    "\n",
    "flowers_dir = r\"data/flowers\"\n",
    "flower_dataset = r'dataset_flower'\n",
    "\n",
    "labels = os.listdir(flowers_dir)\n",
    "\n",
    "for label_name in labels:\n",
    "    print(f'{label_name=}')\n",
    "    label_object_counter = len(os.listdir(flowers_dir+f\"/{label_name}\"))\n",
    "    print(f'Количество обьектов:{label_object_counter }')\n",
    "    print('----')\n",
    "    \n",
    "'''Так как наша задача классифицировать цветок, то у нас отсутствует смещение априорных значения классов'''"
   ]
  },
  {
   "cell_type": "code",
   "execution_count": 3,
   "id": "f3ece680",
   "metadata": {},
   "outputs": [],
   "source": [
    "'''Создание и заполнение сета данных'''\n",
    "def create_dataset(path:str=None, \n",
    "                   input_folder_path:str=None,\n",
    "                   dataset_name:str=None, \n",
    "                   add_labels:bool=False,\n",
    "                   labels:list=None):\n",
    "    \n",
    "        \n",
    "    dataset_path = path+dataset_name\n",
    "    train_dir_path = path+dataset_name+'/train'\n",
    "    test_dir_path = path+dataset_name+'/test'\n",
    "    \n",
    "    test_size = 0.2\n",
    "    \n",
    "    if add_labels == True:\n",
    "        \n",
    "        for label in labels:\n",
    "            \n",
    "            if (not os.path.isdir(train_dir_path+f'/{label}')) and (not os.path.isdir(train_dir_path+f'/{label}')):\n",
    "                \n",
    "                train_label_path = train_dir_path+f'/{label}' # Место для сохранения тренировочной выборки\n",
    "                test_label_path= test_dir_path+f'/{label}'    # Место для сохранения тестовой выборки\n",
    "                label_path = input_folder_path + f'/{label}'  # Место откуда извлекать изображения с меткой\n",
    "                \n",
    "                os.makedirs(train_label_path)\n",
    "                os.makedirs(test_label_path)\n",
    "\n",
    "                # извлекаем и дробим изображения метки на выборки изображения\n",
    "                images = [f for f in os.listdir(label_path) if f.lower().endswith(('.jpg', '.jpeg', '.png'))]\n",
    "                train_images, test_images = train_test_split(images, test_size=test_size, random_state=42)\n",
    "\n",
    "                # Сохраняем тренировочные и тестовые выборки в dataset под определенной меткой\n",
    "                for image in train_images:\n",
    "                    shutil.copy(os.path.join(label_path, image), os.path.join(train_label_path, image))\n",
    "                    \n",
    "                for image in test_images:\n",
    "                    shutil.copy(os.path.join(label_path, image), os.path.join(test_label_path, image))\n",
    "\n",
    "                print(f'{label} успешно создана')\n",
    "                print(f'Путь в train:\\n{train_label_path}')\n",
    "                print(f'Путь в test:\\n{test_label_path}\\n----')\n",
    "                \n",
    "                \n",
    "            else:\n",
    "                print('Папка уже есть')\n",
    "                print(f'Путь до структуры:\\n{dataset_path}\\n')\n",
    "                "
   ]
  },
  {
   "cell_type": "code",
   "execution_count": 4,
   "id": "05df57fe",
   "metadata": {},
   "outputs": [
    {
     "name": "stdout",
     "output_type": "stream",
     "text": [
      "daisy успешно создана\n",
      "Путь в train:\n",
      "data/flowers_dataset/train/daisy\n",
      "Путь в test:\n",
      "data/flowers_dataset/test/daisy\n",
      "----\n",
      "dandelion успешно создана\n",
      "Путь в train:\n",
      "data/flowers_dataset/train/dandelion\n",
      "Путь в test:\n",
      "data/flowers_dataset/test/dandelion\n",
      "----\n",
      "rose успешно создана\n",
      "Путь в train:\n",
      "data/flowers_dataset/train/rose\n",
      "Путь в test:\n",
      "data/flowers_dataset/test/rose\n",
      "----\n",
      "sunflower успешно создана\n",
      "Путь в train:\n",
      "data/flowers_dataset/train/sunflower\n",
      "Путь в test:\n",
      "data/flowers_dataset/test/sunflower\n",
      "----\n",
      "tulip успешно создана\n",
      "Путь в train:\n",
      "data/flowers_dataset/train/tulip\n",
      "Путь в test:\n",
      "data/flowers_dataset/test/tulip\n",
      "----\n"
     ]
    }
   ],
   "source": [
    "create_dataset(path=r'data/', \n",
    "               input_folder_path=r'data\\flowers',\n",
    "               dataset_name='flowers_dataset', \n",
    "               add_labels=True, \n",
    "               labels=labels)"
   ]
  },
  {
   "cell_type": "code",
   "execution_count": 5,
   "id": "17274774",
   "metadata": {},
   "outputs": [],
   "source": [
    "# Указываем пути к train и test\n",
    "train_dir = r'data\\flowers_dataset\\train'\n",
    "test_dir = r'data\\flowers_dataset\\test'"
   ]
  },
  {
   "cell_type": "code",
   "execution_count": null,
   "id": "985ae572",
   "metadata": {},
   "outputs": [
    {
     "ename": "TypeError",
     "evalue": "Compose.__init__() takes 2 positional arguments but 3 were given",
     "output_type": "error",
     "traceback": [
      "\u001b[31m---------------------------------------------------------------------------\u001b[39m",
      "\u001b[31mTypeError\u001b[39m                                 Traceback (most recent call last)",
      "\u001b[36mCell\u001b[39m\u001b[36m \u001b[39m\u001b[32mIn[6]\u001b[39m\u001b[32m, line 3\u001b[39m\n\u001b[32m      1\u001b[39m \u001b[38;5;66;03m# Преобразования для изображений\u001b[39;00m\n\u001b[32m      2\u001b[39m \u001b[33;03m'''transforms.Normalize был установлен согласно нормализации на наборе данных ImageNet'''\u001b[39;00m\n\u001b[32m----> \u001b[39m\u001b[32m3\u001b[39m transform = \u001b[43mtransforms\u001b[49m\u001b[43m.\u001b[49m\u001b[43mCompose\u001b[49m\u001b[43m(\u001b[49m\u001b[43m[\u001b[49m\u001b[43mtransforms\u001b[49m\u001b[43m.\u001b[49m\u001b[43mResize\u001b[49m\u001b[43m(\u001b[49m\u001b[43m(\u001b[49m\u001b[32;43m224\u001b[39;49m\u001b[43m,\u001b[49m\u001b[43m \u001b[49m\u001b[32;43m224\u001b[39;49m\u001b[43m)\u001b[49m\u001b[43m)\u001b[49m\u001b[43m,\u001b[49m\n\u001b[32m      4\u001b[39m \u001b[43m                                \u001b[49m\u001b[43mtransforms\u001b[49m\u001b[43m.\u001b[49m\u001b[43mToTensor\u001b[49m\u001b[43m(\u001b[49m\u001b[43m)\u001b[49m\u001b[43m]\u001b[49m\u001b[43m,\u001b[49m\n\u001b[32m      5\u001b[39m \u001b[43m                                \u001b[49m\u001b[43mtransforms\u001b[49m\u001b[43m.\u001b[49m\u001b[43mNormalize\u001b[49m\u001b[43m(\u001b[49m\u001b[43m[\u001b[49m\u001b[32;43m0.485\u001b[39;49m\u001b[43m,\u001b[49m\u001b[43m \u001b[49m\u001b[32;43m0.456\u001b[39;49m\u001b[43m,\u001b[49m\u001b[43m \u001b[49m\u001b[32;43m0.406\u001b[39;49m\u001b[43m]\u001b[49m\u001b[43m,\u001b[49m\n\u001b[32m      6\u001b[39m \u001b[43m                                                     \u001b[49m\u001b[43m[\u001b[49m\u001b[32;43m0.229\u001b[39;49m\u001b[43m,\u001b[49m\u001b[43m \u001b[49m\u001b[32;43m0.224\u001b[39;49m\u001b[43m,\u001b[49m\u001b[43m \u001b[49m\u001b[32;43m0.225\u001b[39;49m\u001b[43m]\u001b[49m\u001b[43m)\u001b[49m\u001b[43m)\u001b[49m  \n",
      "\u001b[31mTypeError\u001b[39m: Compose.__init__() takes 2 positional arguments but 3 were given"
     ]
    }
   ],
   "source": [
    "# Преобразования для изображений\n",
    "'''transforms.Normalize был установлен согласно нормализации на наборе данных ImageNet'''\n",
    "transform = transforms.Compose([transforms.Resize((224, 224)),\n",
    "                                transforms.ToTensor(),\n",
    "                                transforms.Normalize([0.485, 0.456, 0.406],\n",
    "                                                     [0.229, 0.224, 0.225])])  "
   ]
  },
  {
   "cell_type": "code",
   "execution_count": 86,
   "id": "a5fefdf2",
   "metadata": {},
   "outputs": [],
   "source": [
    "# Загружаем сет данных в понятный для pytorch формат\n",
    "train_dataset = datasets.ImageFolder(root=train_dir, transform=transform)\n",
    "test_dataset = datasets.ImageFolder(root=test_dir, transform=transform)"
   ]
  },
  {
   "cell_type": "code",
   "execution_count": 87,
   "id": "47800ab8",
   "metadata": {},
   "outputs": [],
   "source": [
    "# Создаем Dataloader, что бы итерировать датасет партиями по 32 элемента\n",
    "train_loader = DataLoader(train_dataset, batch_size=32, shuffle=True) # включим перемешивание данных при обучении модели\n",
    "test_loader = DataLoader(test_dataset, batch_size=32) "
   ]
  },
  {
   "cell_type": "code",
   "execution_count": 88,
   "id": "09b7aaa1",
   "metadata": {},
   "outputs": [
    {
     "name": "stdout",
     "output_type": "stream",
     "text": [
      "Метки: ['daisy', 'dandelion', 'rose', 'sunflower', 'tulip']\n"
     ]
    }
   ],
   "source": [
    "print('Метки:', train_dataset.classes)"
   ]
  },
  {
   "cell_type": "markdown",
   "id": "06eed216",
   "metadata": {},
   "source": [
    "# Обучение"
   ]
  },
  {
   "cell_type": "markdown",
   "id": "87e67930",
   "metadata": {},
   "source": [
    "Будет использоваться resnet18 архитектура, так как для решения данной задачи этого более чем достаточно, берем модель с весами"
   ]
  },
  {
   "cell_type": "code",
   "execution_count": 90,
   "id": "abac034e",
   "metadata": {},
   "outputs": [
    {
     "name": "stderr",
     "output_type": "stream",
     "text": [
      "d:\\A_projects\\Test_Task\\Flower_Recognizer\\.venv\\Lib\\site-packages\\torchvision\\models\\_utils.py:208: UserWarning: The parameter 'pretrained' is deprecated since 0.13 and may be removed in the future, please use 'weights' instead.\n",
      "  warnings.warn(\n",
      "d:\\A_projects\\Test_Task\\Flower_Recognizer\\.venv\\Lib\\site-packages\\torchvision\\models\\_utils.py:223: UserWarning: Arguments other than a weight enum or `None` for 'weights' are deprecated since 0.13 and may be removed in the future. The current behavior is equivalent to passing `weights=ResNet18_Weights.IMAGENET1K_V1`. You can also use `weights=ResNet18_Weights.DEFAULT` to get the most up-to-date weights.\n",
      "  warnings.warn(msg)\n",
      "Downloading: \"https://download.pytorch.org/models/resnet18-f37072fd.pth\" to C:\\Users\\kolyagin/.cache\\torch\\hub\\checkpoints\\resnet18-f37072fd.pth\n",
      "100.0%\n"
     ]
    }
   ],
   "source": [
    "model = models.resnet18(pretrained=True)\n",
    "label_counter = len(train_dataset.classes)"
   ]
  },
  {
   "cell_type": "code",
   "execution_count": 91,
   "id": "bf7b42a5",
   "metadata": {},
   "outputs": [],
   "source": [
    "# Изменяем ласт слой под наш(подготавливаем под наши классы)\n",
    "model.fc = torch.nn.Linear(model.fc.in_features, label_counter)"
   ]
  },
  {
   "cell_type": "code",
   "execution_count": null,
   "id": "4a04f7ce",
   "metadata": {},
   "outputs": [],
   "source": [
    "# Выбираем устройство на котором будет обучаться модел, в моём случае это CPU\n",
    "device = torch.device(\"cuda\" if torch.cuda.is_available() else \"cpu\")"
   ]
  },
  {
   "cell_type": "code",
   "execution_count": 93,
   "id": "ee67a0ac",
   "metadata": {},
   "outputs": [],
   "source": [
    "model = model.to(device=device)"
   ]
  },
  {
   "cell_type": "code",
   "execution_count": 94,
   "id": "efa52203",
   "metadata": {},
   "outputs": [],
   "source": [
    "# Выбираем оптимизатор и функцию потерь\n",
    "''' \n",
    "Оптимизатор выбирается Adam, просто потому что он универсален\n",
    "Функция потерь CrossEntropyLoss была выбрана, так как данная задача много классовой классификации\n",
    "'''\n",
    "optimizer = torch.optim.Adam(model.parameters(), lr=0.0001)\n",
    "loss_func = torch.nn.CrossEntropyLoss()"
   ]
  },
  {
   "cell_type": "code",
   "execution_count": null,
   "id": "2f202962",
   "metadata": {},
   "outputs": [],
   "source": [
    "# Обучение модели\n",
    "model_path = r'app\\weight\\resnet18_classifier.pth'\n",
    "\n",
    "epochs = 5\n",
    "\n",
    "for epoch in range(epochs):\n",
    "    model.train()\n",
    "    total_loss = 0\n",
    "    for images, labels in train_loader:\n",
    "        images = images.to(device)\n",
    "        labels = labels.to(device)\n",
    "        optimizer.zero_grad() # чистим градиенты всех оптимизированных параметров\n",
    "        outputs = model(images)\n",
    "        loss = loss_func(outputs, labels)\n",
    "        loss.backward()\n",
    "        optimizer.step()\n",
    "        total_loss += loss.item()\n",
    "        print(f\"||Epoch:{epoch+1}::{epochs}|| Loss:{total_loss/len(train_loader):.4f}\")\n",
    "        \n",
    "        "
   ]
  },
  {
   "cell_type": "code",
   "execution_count": null,
   "id": "8a6e19d0",
   "metadata": {},
   "outputs": [],
   "source": [
    "# Сохранение модели\n",
    "torch.save(model.state_dict(), model_path)\n",
    "print(f\"Модель сохранена в {model_path}\")"
   ]
  },
  {
   "cell_type": "code",
   "execution_count": null,
   "id": "7fb5cf76",
   "metadata": {},
   "outputs": [],
   "source": [
    "# Тестовая загрузка модели\n",
    "model.load_state_dict(torch.load(model_path))\n",
    "model.eval()"
   ]
  },
  {
   "cell_type": "markdown",
   "id": "2b6439b9",
   "metadata": {},
   "source": [
    "# Тестирование"
   ]
  },
  {
   "cell_type": "code",
   "execution_count": null,
   "id": "f07bbf51",
   "metadata": {},
   "outputs": [],
   "source": []
  }
 ],
 "metadata": {
  "kernelspec": {
   "display_name": ".venv",
   "language": "python",
   "name": "python3"
  },
  "language_info": {
   "codemirror_mode": {
    "name": "ipython",
    "version": 3
   },
   "file_extension": ".py",
   "mimetype": "text/x-python",
   "name": "python",
   "nbconvert_exporter": "python",
   "pygments_lexer": "ipython3",
   "version": "3.11.0"
  }
 },
 "nbformat": 4,
 "nbformat_minor": 5
}
