{
 "cells": [
  {
   "cell_type": "code",
   "execution_count": 8,
   "id": "ac6b3402",
   "metadata": {},
   "outputs": [],
   "source": [
    "import torch\n",
    "import torchaudio\n",
    "import cv2\n",
    "import seaborn as sns\n",
    "import os\n",
    "import shutil\n",
    "import numpy as np\n",
    "import matplotlib.pyplot as plt\n",
    "import random\n",
    "\n",
    "from sklearn.model_selection import train_test_split\n",
    "from torchvision import transforms, datasets, models\n",
    "from torch.utils.data import DataLoader\n",
    "from sklearn.metrics import confusion_matrix, ConfusionMatrixDisplay\n",
    "from PIL import Image"
   ]
  },
  {
   "cell_type": "markdown",
   "id": "cb64a820",
   "metadata": {},
   "source": [
    "# Подготовка данных"
   ]
  },
  {
   "cell_type": "code",
   "execution_count": 3,
   "id": "b43f6df2",
   "metadata": {},
   "outputs": [],
   "source": [
    "# Просмотр данных\n",
    "\n",
    "flowers_dir = r\"data/flowers\"\n",
    "\n",
    "all_image_paths = []\n",
    "\n",
    "for folder in os.listdir(flowers_dir):\n",
    "    folder_path = os.path.join(flowers_dir, folder)\n",
    "    if os.path.isdir(folder_path):\n",
    "        all_image_paths += [os.path.join(folder_path, fname)\n",
    "                            for fname in os.listdir(folder_path)\n",
    "                            if fname.endswith(\".jpg\")]\n",
    "        \n",
    "random.shuffle(all_image_paths)"
   ]
  },
  {
   "cell_type": "code",
   "execution_count": 4,
   "id": "7ee44712",
   "metadata": {},
   "outputs": [],
   "source": [
    "# Дробим сет данных 90 процентов библиотека в 10 процентах запросы\n",
    "split_index = int(0.9 * len(all_image_paths))\n",
    "library_paths = all_image_paths[:split_index]\n",
    "query_paths = all_image_paths[split_index:split_index + 5]  # 5 случайных для визуализации"
   ]
  },
  {
   "cell_type": "code",
   "execution_count": 5,
   "id": "08b88d6a",
   "metadata": {},
   "outputs": [],
   "source": [
    "transform = transforms.Compose([transforms.Resize((224, 224)),\n",
    "                                transforms.ToTensor(),\n",
    "                                transforms.Normalize(mean=[0.485, 0.456, 0.406],  # стандарт для ImageNet\n",
    "                                                     std=[0.229, 0.224, 0.225])])"
   ]
  },
  {
   "cell_type": "markdown",
   "id": "06eed216",
   "metadata": {},
   "source": [
    "# Обучение"
   ]
  },
  {
   "cell_type": "code",
   "execution_count": 6,
   "id": "4a04f7ce",
   "metadata": {},
   "outputs": [],
   "source": [
    "# Выбираем устройство на котором будет обучаться модел, в моём случае это CPU\n",
    "device = torch.device(\"cuda\" if torch.cuda.is_available() else \"cpu\")"
   ]
  },
  {
   "cell_type": "code",
   "execution_count": 7,
   "id": "10d905b7",
   "metadata": {},
   "outputs": [
    {
     "name": "stderr",
     "output_type": "stream",
     "text": [
      "d:\\A_projects\\Test_Task\\Flower_Recognizer\\.venv\\Lib\\site-packages\\torchvision\\models\\_utils.py:208: UserWarning: The parameter 'pretrained' is deprecated since 0.13 and may be removed in the future, please use 'weights' instead.\n",
      "  warnings.warn(\n",
      "d:\\A_projects\\Test_Task\\Flower_Recognizer\\.venv\\Lib\\site-packages\\torchvision\\models\\_utils.py:223: UserWarning: Arguments other than a weight enum or `None` for 'weights' are deprecated since 0.13 and may be removed in the future. The current behavior is equivalent to passing `weights=ResNet50_Weights.IMAGENET1K_V1`. You can also use `weights=ResNet50_Weights.DEFAULT` to get the most up-to-date weights.\n",
      "  warnings.warn(msg)\n",
      "Downloading: \"https://download.pytorch.org/models/resnet50-0676ba61.pth\" to C:\\Users\\kolyagin/.cache\\torch\\hub\\checkpoints\\resnet50-0676ba61.pth\n",
      "100.0%\n"
     ]
    }
   ],
   "source": [
    "# Загрузка ResNet50 без классификатора\n",
    "base_model = models.resnet50(pretrained=True)\n",
    "model = torch.nn.Sequential(*list(base_model.children())[:-1])  # удаляем классификатор\n",
    "model = model.to(device).eval()"
   ]
  },
  {
   "cell_type": "code",
   "execution_count": 9,
   "id": "6ad5932a",
   "metadata": {},
   "outputs": [
    {
     "name": "stdout",
     "output_type": "stream",
     "text": [
      "Модель сохранена в app\\weight\\resnet50_finder_.pth\n"
     ]
    }
   ],
   "source": [
    "model_path = r\"app\\weight\\resnet50_finder_.pth\"\n",
    "# Сохранение модели\n",
    "torch.save(model.state_dict(), model_path)\n",
    "print(f\"Модель сохранена в {model_path}\")"
   ]
  },
  {
   "cell_type": "code",
   "execution_count": null,
   "id": "f9fec0e8",
   "metadata": {},
   "outputs": [],
   "source": [
    "# Функция для получение эмбеддингов\n",
    "def get_embedding(image_path):\n",
    "    image = Image.open(image_path).convert(\"RGB\")\n",
    "    image_tensor = transform(image).unsqueeze(0).to(device)\n",
    "    \n",
    "    with torch.no_grad():\n",
    "        embedding = model(image_tensor).squeeze().cpu().numpy()\n",
    "    return embedding.flatten()"
   ]
  },
  {
   "cell_type": "code",
   "execution_count": null,
   "id": "0810c1d5",
   "metadata": {},
   "outputs": [],
   "source": [
    "# Получение эмбедингов библиотеки\n",
    "library_embeding = []"
   ]
  },
  {
   "cell_type": "markdown",
   "id": "2b6439b9",
   "metadata": {},
   "source": [
    "# Тестирование "
   ]
  },
  {
   "cell_type": "code",
   "execution_count": null,
   "id": "f07bbf51",
   "metadata": {},
   "outputs": [],
   "source": [
    "y_true = []\n",
    "y_pred = []\n",
    "\n",
    "with torch.no_grad():\n",
    "    for images, labels in test_loader:\n",
    "        images, labels = images.to(device), labels.to(device)\n",
    "        outputs = model(images)\n",
    "        _, predicted = torch.max(outputs, 1)\n",
    "        y_true.extend(labels.cpu().numpy())\n",
    "        y_pred.extend(predicted.cpu().numpy())\n",
    "        \n",
    "accuracy = np.mean(np.array(y_true) == np.array(y_pred))\n",
    "\n",
    "print(f\"Точность на тестовых данных:{accuracy*100:.2f}%\")"
   ]
  },
  {
   "cell_type": "markdown",
   "id": "56024c8d",
   "metadata": {},
   "source": [
    "Посмотрим матрицу ошибок"
   ]
  },
  {
   "cell_type": "code",
   "execution_count": null,
   "id": "11d4ec27",
   "metadata": {},
   "outputs": [],
   "source": [
    "cm = confusion_matrix(y_true, y_pred)\n",
    "disp = ConfusionMatrixDisplay(confusion_matrix=cm, display_labels=label_name)\n",
    "disp.plot(cmap='Blues', xticks_rotation=45)\n",
    "plt.title(\"Матрица ошибок\")\n",
    "plt.tight_layout()\n",
    "plt.show()\n",
    "    "
   ]
  },
  {
   "cell_type": "code",
   "execution_count": null,
   "id": "05fe4667",
   "metadata": {},
   "outputs": [],
   "source": [
    "# тестовая функция для отображения \n",
    "def predict_image(input_image_path:str):\n",
    "    "
   ]
  }
 ],
 "metadata": {
  "kernelspec": {
   "display_name": ".venv",
   "language": "python",
   "name": "python3"
  },
  "language_info": {
   "codemirror_mode": {
    "name": "ipython",
    "version": 3
   },
   "file_extension": ".py",
   "mimetype": "text/x-python",
   "name": "python",
   "nbconvert_exporter": "python",
   "pygments_lexer": "ipython3",
   "version": "3.11.0"
  }
 },
 "nbformat": 4,
 "nbformat_minor": 5
}
