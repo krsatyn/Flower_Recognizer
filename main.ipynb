{
 "cells": [
  {
   "cell_type": "code",
   "execution_count": null,
   "id": "ac6b3402",
   "metadata": {},
   "outputs": [],
   "source": [
    "import torch\n",
    "import torchaudio\n",
    "import cv2\n",
    "import seaborn as sns\n",
    "import os\n",
    "import shutil\n",
    "\n",
    "from sklearn.model_selection import train_test_split"
   ]
  },
  {
   "cell_type": "markdown",
   "id": "cb64a820",
   "metadata": {},
   "source": [
    "# Подготовка данных"
   ]
  },
  {
   "cell_type": "code",
   "execution_count": 8,
   "id": "b43f6df2",
   "metadata": {},
   "outputs": [
    {
     "name": "stdout",
     "output_type": "stream",
     "text": [
      "label_name='daisy'\n",
      "Количество обьектов:764\n",
      "----\n",
      "label_name='dandelion'\n",
      "Количество обьектов:1052\n",
      "----\n",
      "label_name='rose'\n",
      "Количество обьектов:784\n",
      "----\n",
      "label_name='sunflower'\n",
      "Количество обьектов:733\n",
      "----\n",
      "label_name='tulip'\n",
      "Количество обьектов:984\n",
      "----\n"
     ]
    },
    {
     "data": {
      "text/plain": [
       "'Так как наша задача классифицировать цветок, то у нас отсутствует смещение априорных значения классов'"
      ]
     },
     "execution_count": 8,
     "metadata": {},
     "output_type": "execute_result"
    }
   ],
   "source": [
    "# Просмотр данных\n",
    "\n",
    "flowers_dir = r\"data/flowers\"\n",
    "flower_dataset = r'dataset_flower'\n",
    "\n",
    "labels = os.listdir(flowers_dir)\n",
    "\n",
    "for label_name in labels:\n",
    "    print(f'{label_name=}')\n",
    "    label_object_counter = len(os.listdir(flowers_dir+f\"/{label_name}\"))\n",
    "    print(f'Количество обьектов:{label_object_counter }')\n",
    "    print('----')\n",
    "    \n",
    "'''Так как наша задача классифицировать цветок, то у нас отсутствует смещение априорных значения классов'''"
   ]
  },
  {
   "cell_type": "code",
   "execution_count": null,
   "id": "f3ece680",
   "metadata": {},
   "outputs": [],
   "source": [
    "'''Создание и заполнение сета данных'''\n",
    "def create_dataset(path:str=None, \n",
    "                   input_folder_path:str=None,\n",
    "                   dataset_name:str=None, \n",
    "                   add_labels:bool=False,\n",
    "                   labels:list=None):\n",
    "    \n",
    "        \n",
    "    dataset_path = path+dataset_name\n",
    "    train_dir_path = path+dataset_name+'/train'\n",
    "    test_dir_path = path+dataset_name+'/test'\n",
    "    \n",
    "    test_size = 0.2\n",
    "    \n",
    "    if add_labels == True:\n",
    "        \n",
    "        for label in labels:\n",
    "            \n",
    "            if (not os.path.isdir(train_dir_path+f'/{label}')) and (not os.path.isdir(train_dir_path+f'/{label}')):\n",
    "                \n",
    "                train_label_path = train_dir_path+f'/{label}' # Место для сохранения тренировочной выборки\n",
    "                test_label_path= test_dir_path+f'/{label}'    # Место для сохранения тестовой выборки\n",
    "                label_path = input_folder_path + f'/{label}'  # Место откуда извлекать изображения с меткой\n",
    "                \n",
    "                os.makedirs(train_label_path)\n",
    "                os.makedirs(test_label_path)\n",
    "\n",
    "                # извлекаем и дробим изображения метки на выборки изображения\n",
    "                images = [f for f in os.listdir(label_path) if f.lower().endswith(('.jpg', '.jpeg', '.png'))]\n",
    "                train_images, test_images = train_test_split(images, test_size=test_size, random_state=42)\n",
    "\n",
    "                # Сохраняем тренировочные и тестовые выборки в dataset под определенной меткой\n",
    "                for image in train_images:\n",
    "                    shutil.copy(os.path.join(label_path, image), os.path.join(train_label_path, image))\n",
    "                    \n",
    "                for image in test_images:\n",
    "                    shutil.copy(os.path.join(label_path, image), os.path.join(train_label_path, image))\n",
    "\n",
    "                print(f'{label} успешно создана')\n",
    "                print(f'Путь в train:\\n{train_label_path}')\n",
    "                print(f'Путь в test:\\n{test_label_path}\\n----')\n",
    "                \n",
    "                \n",
    "            else:\n",
    "                print('Папка уже есть')\n",
    "                print(f'Путь до структуры:\\n{dataset_path}\\n')\n",
    "                "
   ]
  },
  {
   "cell_type": "code",
   "execution_count": 72,
   "id": "05df57fe",
   "metadata": {},
   "outputs": [],
   "source": [
    "create_dataset(path=r'data/', \n",
    "               input_folder_path=r'data\\flowers',\n",
    "               dataset_name='flowers_dataset', \n",
    "               add_labels=True, \n",
    "               labels=labels)"
   ]
  },
  {
   "cell_type": "code",
   "execution_count": null,
   "id": "b0c36cbe",
   "metadata": {},
   "outputs": [
    {
     "ename": "SyntaxError",
     "evalue": "invalid syntax (426844205.py, line 5)",
     "output_type": "error",
     "traceback": [
      "  \u001b[36mCell\u001b[39m\u001b[36m \u001b[39m\u001b[32mIn[10]\u001b[39m\u001b[32m, line 5\u001b[39m\n\u001b[31m    \u001b[39m\u001b[31mtest_dir =\u001b[39m\n               ^\n\u001b[31mSyntaxError\u001b[39m\u001b[31m:\u001b[39m invalid syntax\n"
     ]
    }
   ],
   "source": [
    "\n",
    "test_size = 0.2\n",
    "train_dir = os.path.join('data\\flowers_dataset\\train')\n",
    "test_dir =  os.path.join('data\\flowers_dataset\\test')"
   ]
  },
  {
   "cell_type": "markdown",
   "id": "da5453cb",
   "metadata": {},
   "source": [
    "Формирование общего сета данных"
   ]
  },
  {
   "cell_type": "code",
   "execution_count": 25,
   "id": "1a2f6da8",
   "metadata": {},
   "outputs": [],
   "source": [
    "import os\n",
    "import shutil\n",
    "from sklearn.model_selection import train_test_split\n",
    "\n",
    "# Путь к исходному датасету\n",
    "dataset_dir = r'data\\flowers'\n",
    "output_dir = 'output_dataset'  # будет содержать train/ и test/\n",
    "\n",
    "# Соотношение для тестовой выборки\n",
    "test_size = 0.2\n",
    "\n",
    "# Создаем выходные папки\n",
    "train_dir = os.path.join(output_dir, 'train')\n",
    "test_dir = os.path.join(output_dir, 'test')\n",
    "\n",
    "os.makedirs(train_dir, exist_ok=True)\n",
    "os.makedirs(test_dir, exist_ok=True)\n",
    "\n",
    "# Обрабатываем каждый класс (папку)\n",
    "for class_name in os.listdir(dataset_dir):\n",
    "    class_path = os.path.join(dataset_dir, class_name)\n",
    "    if not os.path.isdir(class_path):\n",
    "        continue\n",
    "\n",
    "    images = [f for f in os.listdir(class_path) if f.lower().endswith(('.jpg', '.jpeg', '.png'))]\n",
    "    train_imgs, test_imgs = train_test_split(images, test_size=test_size, random_state=42)\n",
    "\n",
    "    # Создаем папки класса в train и test\n",
    "    os.makedirs(os.path.join(train_dir, class_name), exist_ok=True)\n",
    "    os.makedirs(os.path.join(test_dir, class_name), exist_ok=True)\n",
    "\n",
    "    # Копируем изображения\n",
    "    for img in train_imgs:\n",
    "        shutil.copy(os.path.join(class_path, img), os.path.join(train_dir, class_name, img))\n",
    "    for img in test_imgs:\n",
    "        shutil.copy(os.path.join(class_path, img), os.path.join(test_dir, class_name, img))"
   ]
  },
  {
   "cell_type": "markdown",
   "id": "06eed216",
   "metadata": {},
   "source": [
    "# Обучение"
   ]
  },
  {
   "cell_type": "code",
   "execution_count": null,
   "id": "abac034e",
   "metadata": {},
   "outputs": [],
   "source": []
  },
  {
   "cell_type": "markdown",
   "id": "2b6439b9",
   "metadata": {},
   "source": [
    "# Тестирование"
   ]
  },
  {
   "cell_type": "code",
   "execution_count": null,
   "id": "f07bbf51",
   "metadata": {},
   "outputs": [],
   "source": []
  }
 ],
 "metadata": {
  "kernelspec": {
   "display_name": ".venv",
   "language": "python",
   "name": "python3"
  },
  "language_info": {
   "codemirror_mode": {
    "name": "ipython",
    "version": 3
   },
   "file_extension": ".py",
   "mimetype": "text/x-python",
   "name": "python",
   "nbconvert_exporter": "python",
   "pygments_lexer": "ipython3",
   "version": "3.11.0"
  }
 },
 "nbformat": 4,
 "nbformat_minor": 5
}
